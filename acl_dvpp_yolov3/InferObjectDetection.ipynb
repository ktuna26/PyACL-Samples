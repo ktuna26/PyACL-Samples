{
 "cells": [
  {
   "cell_type": "code",
   "execution_count": 1,
   "metadata": {},
   "outputs": [],
   "source": [
    "import acl\n",
    "import numpy as np\n",
    "from PIL import Image\n",
    "from acl_sample import Sample\n",
    "import struct\n",
    "from constant import NPY_BYTE\n",
    "from postprocessing import postprocess_boxes\n",
    "import cv2"
   ]
  },
  {
   "cell_type": "code",
   "execution_count": 2,
   "metadata": {},
   "outputs": [],
   "source": [
    "device_id = 0\n",
    "input_size = 416\n",
    "model_path = \"./model/yolov3_tf.om\"\n",
    "img_dict = {\"path\": \"./data/dog.jpg\", \"dtype\": np.uint8}"
   ]
  },
  {
   "cell_type": "code",
   "execution_count": 3,
   "metadata": {},
   "outputs": [
    {
     "name": "stdout",
     "output_type": "stream",
     "text": [
      "[Sample] init resource stage:\n",
      "[Sample] init resource stage success\n",
      "[Model] class Model init resource stage:\n",
      "model output size 3\n",
      "output  0\n",
      "model output dims ({'name': 'yolov3/yolov3_head/feature_map_1:0', 'dimCount': 4, 'dims': [1, 13, 13, 255]}, 0)\n",
      "model output datatype 0\n",
      "output  1\n",
      "model output dims ({'name': 'yolov3/yolov3_head/feature_map_2:0', 'dimCount': 4, 'dims': [1, 26, 26, 255]}, 0)\n",
      "model output datatype 0\n",
      "output  2\n",
      "model output dims ({'name': 'yolov3/yolov3_head/feature_map_3:0', 'dimCount': 4, 'dims': [1, 52, 52, 255]}, 0)\n",
      "model output datatype 0\n",
      "[Model] create model output dataset:\n",
      "[Model] create model output dataset success\n",
      "[Model] class Model init resource stage success\n"
     ]
    }
   ],
   "source": [
    "sample = Sample(device_id,\n",
    "                model_path,\n",
    "                input_size,\n",
    "                input_size)"
   ]
  },
  {
   "cell_type": "code",
   "execution_count": 10,
   "metadata": {
    "scrolled": true
   },
   "outputs": [
    {
     "name": "stdout",
     "output_type": "stream",
     "text": [
      "[Sample] width:768 height:576\n",
      "[Sample] image:./data/dog.jpg\n",
      "[Sample] img_buffer_size:171363\n",
      "[Dvpp] vpc decode stage:\n",
      "[Dvpp] vpc decode stage success\n",
      "[Dvpp] vpc resize stage:\n",
      "[Dvpp] vpc resize stage success\n",
      "dvpp_output_size 259584\n",
      "[Model] create model input dataset:\n",
      "[Model] create model input dataset success\n",
      "[Model] execute stage:\n",
      "[Model] execute stage success\n"
     ]
    }
   ],
   "source": [
    "# %timeit -n 100 -r 10 \n",
    "model_output = sample.forward(img_dict)"
   ]
  },
  {
   "cell_type": "code",
   "execution_count": 11,
   "metadata": {},
   "outputs": [],
   "source": [
    "def get_model_output_by_index(model_output, i, num_classes = 80):\n",
    "    temp_output_buf = acl.mdl.get_dataset_buffer(model_output, i)\n",
    "\n",
    "    infer_output_ptr = acl.get_data_buffer_addr(temp_output_buf)\n",
    "    infer_output_size = acl.get_data_buffer_size(temp_output_buf)\n",
    "    print(\"infer_output_size\", infer_output_size)\n",
    "    \n",
    "#     output_host, _ = acl.rt.malloc_host(infer_output_size)\n",
    "#     acl.rt.memcpy(output_host, infer_output_size, infer_output_ptr,\n",
    "#                           infer_output_size, ACL_MEMCPY_DEVICE_TO_HOST)\n",
    "    \n",
    "    result = acl.util.ptr_to_numpy(infer_output_ptr, (infer_output_size,), NPY_BYTE)\n",
    "    return np.array(struct.unpack(f\"{infer_output_size//4}f\", bytearray(result)), dtype=np.float32)\n",
    "# .reshape(-1, 255)"
   ]
  },
  {
   "cell_type": "code",
   "execution_count": 12,
   "metadata": {},
   "outputs": [
    {
     "name": "stdout",
     "output_type": "stream",
     "text": [
      "infer_output_size 172380\n",
      "infer_output_size 689520\n",
      "infer_output_size 2758080\n"
     ]
    }
   ],
   "source": [
    "pred_sbbox = get_model_output_by_index(model_output, 0)\n",
    "pred_mbbox = get_model_output_by_index(model_output, 1)\n",
    "pred_lbbox = get_model_output_by_index(model_output, 2)"
   ]
  },
  {
   "cell_type": "code",
   "execution_count": 16,
   "metadata": {},
   "outputs": [],
   "source": [
    "# with open(\"out.txt\", \"r\") as fd:\n",
    "#     lines = fd.readlines()"
   ]
  },
  {
   "cell_type": "code",
   "execution_count": 17,
   "metadata": {},
   "outputs": [],
   "source": [
    "# tf_bbox = np.array([float(e) for e in lines[0].split()])\n",
    "# .reshape(-1, 255)"
   ]
  },
  {
   "cell_type": "code",
   "execution_count": null,
   "metadata": {},
   "outputs": [],
   "source": [
    "Image.open(img_dict[\"path\"]).size"
   ]
  },
  {
   "cell_type": "code",
   "execution_count": 38,
   "metadata": {},
   "outputs": [
    {
     "data": {
      "text/plain": [
       "array([], shape=(0, 6), dtype=float64)"
      ]
     },
     "execution_count": 38,
     "metadata": {},
     "output_type": "execute_result"
    }
   ],
   "source": [
    "postprocess_boxes(pred_bbox, (576, 768), input_size, 0.3)"
   ]
  },
  {
   "cell_type": "code",
   "execution_count": null,
   "metadata": {},
   "outputs": [],
   "source": []
  }
 ],
 "metadata": {
  "kernelspec": {
   "display_name": "Python 3",
   "language": "python",
   "name": "python3"
  },
  "language_info": {
   "codemirror_mode": {
    "name": "ipython",
    "version": 3
   },
   "file_extension": ".py",
   "mimetype": "text/x-python",
   "name": "python",
   "nbconvert_exporter": "python",
   "pygments_lexer": "ipython3",
   "version": "3.6.9"
  }
 },
 "nbformat": 4,
 "nbformat_minor": 4
}
