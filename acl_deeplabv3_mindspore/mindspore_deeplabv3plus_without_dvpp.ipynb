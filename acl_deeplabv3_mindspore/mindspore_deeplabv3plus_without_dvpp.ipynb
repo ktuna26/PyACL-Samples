{
 "cells": [
  {
   "cell_type": "code",
   "execution_count": 1,
   "id": "a0c533dd-5dee-4ea7-95bf-c53c6d10a47d",
   "metadata": {},
   "outputs": [],
   "source": [
    "import cv2 as cv\n",
    "import os\n",
    "import sys\n",
    "from model import preprocess\n",
    "from model import postprocess\n",
    "#path = os.path.dirname(os.path.abspath(__file__))\n",
    "from PIL import Image\n",
    "\n",
    "\n",
    "sys.path.append('../acllite')\n",
    "\n",
    "from acllite_model import AclLiteModel\n",
    "from acllite_resource import AclLiteResource\n",
    "from constants import IMG_EXT\n"
   ]
  },
  {
   "cell_type": "code",
   "execution_count": 2,
   "id": "f291d092-2b01-46d9-ab4a-611b948d0637",
   "metadata": {},
   "outputs": [],
   "source": [
    "INPUT_DIR = './data/'\n",
    "OUTPUT_DIR = './out/'"
   ]
  },
  {
   "cell_type": "code",
   "execution_count": 3,
   "id": "a3fd5b50-4f2c-42a6-8625-86fa8f0f3aa1",
   "metadata": {},
   "outputs": [],
   "source": [
    "device_id = 5\n",
    "model_path = './model/deeplab_origin.om'\n",
    "#model_path = '/home/a800_9010/serkan/updatePyaclSamples/models/deeplabv3plus/deeplab_origin.om'"
   ]
  },
  {
   "cell_type": "code",
   "execution_count": 4,
   "id": "05bb793f-832d-4ff6-a4b3-99b72332b464",
   "metadata": {},
   "outputs": [
    {
     "name": "stdout",
     "output_type": "stream",
     "text": [
      "init resource stage:\n",
      "Init resource success\n",
      "[Device] NPU Device id: 5\n",
      "Init model resource start...\n",
      "[AclLiteModel] create model output dataset:\n",
      "malloc output 0, size 22106196\n",
      "Create model output dataset success\n",
      "Init model resource success\n"
     ]
    }
   ],
   "source": [
    "acl_resource = AclLiteResource(device_id)\n",
    "acl_resource.init()\n",
    "print('[Device] NPU Device id:',acl_resource.device_id)\n",
    "model = AclLiteModel(model_path)"
   ]
  },
  {
   "cell_type": "code",
   "execution_count": 5,
   "id": "30db0e69-0d1c-40a3-8b04-b956a413e931",
   "metadata": {},
   "outputs": [
    {
     "name": "stdout",
     "output_type": "stream",
     "text": [
      "['./data/test.jpg']\n"
     ]
    }
   ],
   "source": [
    "images_list = [os.path.join(INPUT_DIR, img)\n",
    "                   for img in os.listdir(INPUT_DIR)\n",
    "                   if os.path.splitext(img)[1] in IMG_EXT]\n",
    "print(images_list)"
   ]
  },
  {
   "cell_type": "code",
   "execution_count": 6,
   "id": "ffd4cac6-7d51-4e7e-b0dd-95134a1730ed",
   "metadata": {},
   "outputs": [
    {
     "name": "stdout",
     "output_type": "stream",
     "text": [
      "model input size 1\n",
      "input  0\n",
      "model input dims ({'name': 'input_data', 'dimCount': 4, 'dims': [1, 3, 513, 513]}, 0)\n",
      "model input datatype 0\n",
      "==================================================\n",
      "model output size 1\n",
      "output  0\n",
      "model output dims ({'name': 'output_0_trans_Cast_343_0', 'dimCount': 4, 'dims': [1, 21, 513, 513]}, 0)\n",
      "model output datatype 0\n",
      "==================================================\n",
      "[Model] class Model init resource stage success\n",
      "in preprocess, use time:0.23940277099609375\n"
     ]
    }
   ],
   "source": [
    "input_data = preprocess(images_list[0],model._model_desc)"
   ]
  },
  {
   "cell_type": "code",
   "execution_count": 7,
   "id": "791a81df-7322-4a57-96f3-74114ded9318",
   "metadata": {},
   "outputs": [],
   "source": [
    "result_list = model.execute([input_data,])"
   ]
  },
  {
   "cell_type": "code",
   "execution_count": 8,
   "id": "9ff2e3e4-691e-446b-b841-f3e7e4c88788",
   "metadata": {},
   "outputs": [
    {
     "name": "stdout",
     "output_type": "stream",
     "text": [
      "./mask/pic7.jpg dilate_mask_pic\n",
      "./mask/pic15.jpg dilate_mask_pic\n",
      "Image saved out path.\n",
      "in postprocess, use time:1.2780725955963135\n"
     ]
    }
   ],
   "source": [
    "fig = postprocess(result_list, images_list[0], OUTPUT_DIR)"
   ]
  },
  {
   "cell_type": "code",
   "execution_count": 9,
   "id": "b5edfbb1-32f8-4847-bc73-c0661ddbe927",
   "metadata": {},
   "outputs": [
    {
     "name": "stdout",
     "output_type": "stream",
     "text": [
      "['./out/test.jpg']\n"
     ]
    }
   ],
   "source": [
    "images_list = [os.path.join(OUTPUT_DIR, img)\n",
    "                   for img in os.listdir(OUTPUT_DIR)\n",
    "                   if os.path.splitext(img)[1] in IMG_EXT]\n",
    "print(images_list)\n",
    "output_img = cv.imread(images_list[0])\n",
    "res_img = cv.cvtColor(output_img, cv.COLOR_BGR2RGB)\n",
    "res_img_plw = Image.fromarray(res_img)\n",
    "\n"
   ]
  },
  {
   "cell_type": "code",
   "execution_count": null,
   "id": "6e9f3d02-6c31-4113-bd0e-7c1d964bf081",
   "metadata": {},
   "outputs": [],
   "source": [
    "res_img_plw"
   ]
  },
  {
   "cell_type": "code",
   "execution_count": null,
   "id": "125c7e85-a996-4243-87e9-db7e1385f569",
   "metadata": {},
   "outputs": [],
   "source": []
  }
 ],
 "metadata": {
  "kernelspec": {
   "display_name": "Python 3 (ipykernel)",
   "language": "python",
   "name": "python3"
  },
  "language_info": {
   "codemirror_mode": {
    "name": "ipython",
    "version": 3
   },
   "file_extension": ".py",
   "mimetype": "text/x-python",
   "name": "python",
   "nbconvert_exporter": "python",
   "pygments_lexer": "ipython3",
   "version": "3.7.5"
  }
 },
 "nbformat": 4,
 "nbformat_minor": 5
}
