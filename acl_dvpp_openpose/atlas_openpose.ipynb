{
 "cells": [
  {
   "cell_type": "code",
   "execution_count": 1,
   "metadata": {},
   "outputs": [],
   "source": [
    "import acl\n",
    "import numpy as np\n",
    "import struct\n",
    "from constant import ACL_MEM_MALLOC_NORMAL_ONLY, \\\n",
    "    ACL_MEMCPY_HOST_TO_DEVICE, ACL_MEMCPY_DEVICE_TO_HOST, \\\n",
    "    ACL_ERROR_NONE, NPY_BYTE"
   ]
  },
  {
   "cell_type": "code",
   "execution_count": 2,
   "metadata": {},
   "outputs": [],
   "source": [
    "from acl_sample import Sample"
   ]
  },
  {
   "cell_type": "code",
   "execution_count": 3,
   "metadata": {},
   "outputs": [
    {
     "name": "stdout",
     "output_type": "stream",
     "text": [
      "[Sample] init resource stage:\n",
      "[Sample] init resource stage success\n",
      "[Model] class Model init resource stage:\n",
      "model output size 3\n",
      "output  0\n",
      "model output dims ({'name': 'peaks:0', 'dimCount': 4, 'dims': [1, 92, 92, 19]}, 0)\n",
      "model output datatype 0\n",
      "output  1\n",
      "model output dims ({'name': 'heatmat_output:0', 'dimCount': 4, 'dims': [1, 92, 92, 19]}, 0)\n",
      "model output datatype 0\n",
      "output  2\n",
      "model output dims ({'name': 'pafmat_output:0', 'dimCount': 4, 'dims': [1, 92, 92, 38]}, 0)\n",
      "model output datatype 0\n",
      "[Model] create model output dataset:\n",
      "[Model] create model output dataset success\n",
      "[Model] class Model init resource stage success\n",
      "input tensor size 4000\n",
      "output tensor size 2000\n"
     ]
    }
   ],
   "source": [
    "sample = Sample(0,\n",
    "                \"./openpose_from_tf.om\",\n",
    "                368,\n",
    "                368)"
   ]
  },
  {
   "cell_type": "code",
   "execution_count": 4,
   "metadata": {},
   "outputs": [],
   "source": [
    "img_dict = {\"path\": \"./golf.jpg\", \"dtype\": np.uint8}"
   ]
  },
  {
   "cell_type": "code",
   "execution_count": 5,
   "metadata": {},
   "outputs": [
    {
     "name": "stdout",
     "output_type": "stream",
     "text": [
      "[Sample] width:1313 height:1348\n",
      "[Sample] image:./golf.jpg\n"
     ]
    },
    {
     "ename": "Exception",
     "evalue": "acl.rt.memcpy failed ret=200001",
     "output_type": "error",
     "traceback": [
      "\u001b[0;31m---------------------------------------------------------------------------\u001b[0m",
      "\u001b[0;31mException\u001b[0m                                 Traceback (most recent call last)",
      "\u001b[0;32m<ipython-input-5-b23692d15931>\u001b[0m in \u001b[0;36m<module>\u001b[0;34m\u001b[0m\n\u001b[0;32m----> 1\u001b[0;31m \u001b[0mmodel_output\u001b[0m \u001b[0;34m=\u001b[0m \u001b[0msample\u001b[0m\u001b[0;34m.\u001b[0m\u001b[0mforward\u001b[0m\u001b[0;34m(\u001b[0m\u001b[0mimg_dict\u001b[0m\u001b[0;34m)\u001b[0m\u001b[0;34m\u001b[0m\u001b[0;34m\u001b[0m\u001b[0m\n\u001b[0m",
      "\u001b[0;32m~/pyACL_samples/acl_execute_model/acl_dvpp_resnet50/acl_sample.py\u001b[0m in \u001b[0;36mforward\u001b[0;34m(self, img_dict)\u001b[0m\n\u001b[1;32m    104\u001b[0m         \u001b[0mprint\u001b[0m\u001b[0;34m(\u001b[0m\u001b[0;34m\"[Sample] width:{} height:{}\"\u001b[0m\u001b[0;34m.\u001b[0m\u001b[0mformat\u001b[0m\u001b[0;34m(\u001b[0m\u001b[0mwidth\u001b[0m\u001b[0;34m,\u001b[0m \u001b[0mheight\u001b[0m\u001b[0;34m)\u001b[0m\u001b[0;34m)\u001b[0m\u001b[0;34m\u001b[0m\u001b[0;34m\u001b[0m\u001b[0m\n\u001b[1;32m    105\u001b[0m         \u001b[0mprint\u001b[0m\u001b[0;34m(\u001b[0m\u001b[0;34m\"[Sample] image:{}\"\u001b[0m\u001b[0;34m.\u001b[0m\u001b[0mformat\u001b[0m\u001b[0;34m(\u001b[0m\u001b[0mimg_path\u001b[0m\u001b[0;34m)\u001b[0m\u001b[0;34m)\u001b[0m\u001b[0;34m\u001b[0m\u001b[0;34m\u001b[0m\u001b[0m\n\u001b[0;32m--> 106\u001b[0;31m         \u001b[0mimg_device\u001b[0m\u001b[0;34m,\u001b[0m \u001b[0mimg_buffer_size\u001b[0m \u001b[0;34m=\u001b[0m \u001b[0mself\u001b[0m\u001b[0;34m.\u001b[0m\u001b[0m_transfer_to_devicce\u001b[0m\u001b[0;34m(\u001b[0m\u001b[0mimg_path\u001b[0m\u001b[0;34m,\u001b[0m \u001b[0mimg_dict\u001b[0m\u001b[0;34m[\u001b[0m\u001b[0;34m\"dtype\"\u001b[0m\u001b[0;34m]\u001b[0m\u001b[0;34m)\u001b[0m\u001b[0;34m\u001b[0m\u001b[0;34m\u001b[0m\u001b[0m\n\u001b[0m\u001b[1;32m    107\u001b[0m \u001b[0;34m\u001b[0m\u001b[0m\n\u001b[1;32m    108\u001b[0m         \u001b[0;31m# decode and resize\u001b[0m\u001b[0;34m\u001b[0m\u001b[0;34m\u001b[0m\u001b[0;34m\u001b[0m\u001b[0m\n",
      "\u001b[0;32m~/pyACL_samples/acl_execute_model/acl_dvpp_resnet50/acl_sample.py\u001b[0m in \u001b[0;36m_transfer_to_devicce\u001b[0;34m(self, img_path, dtype)\u001b[0m\n\u001b[1;32m     91\u001b[0m                             \u001b[0mimg_buffer_size\u001b[0m\u001b[0;34m,\u001b[0m\u001b[0;34m\u001b[0m\u001b[0;34m\u001b[0m\u001b[0m\n\u001b[1;32m     92\u001b[0m                             ACL_MEMCPY_HOST_TO_DEVICE)\n\u001b[0;32m---> 93\u001b[0;31m         \u001b[0mcheck_ret\u001b[0m\u001b[0;34m(\u001b[0m\u001b[0;34m\"acl.rt.memcpy\"\u001b[0m\u001b[0;34m,\u001b[0m \u001b[0mret\u001b[0m\u001b[0;34m)\u001b[0m\u001b[0;34m\u001b[0m\u001b[0;34m\u001b[0m\u001b[0m\n\u001b[0m\u001b[1;32m     94\u001b[0m \u001b[0;34m\u001b[0m\u001b[0m\n\u001b[1;32m     95\u001b[0m         \u001b[0;31m# ret = acl.rt.free_host(img_ptr)\u001b[0m\u001b[0;34m\u001b[0m\u001b[0;34m\u001b[0m\u001b[0;34m\u001b[0m\u001b[0m\n",
      "\u001b[0;32m~/pyACL_samples/acl_execute_model/acl_dvpp_resnet50/acl_util.py\u001b[0m in \u001b[0;36mcheck_ret\u001b[0;34m(message, ret)\u001b[0m\n\u001b[1;32m      4\u001b[0m     \u001b[0;32mif\u001b[0m \u001b[0mret\u001b[0m \u001b[0;34m!=\u001b[0m \u001b[0mACL_ERROR_NONE\u001b[0m\u001b[0;34m:\u001b[0m\u001b[0;34m\u001b[0m\u001b[0;34m\u001b[0m\u001b[0m\n\u001b[1;32m      5\u001b[0m         raise Exception(\"{} failed ret={}\"\n\u001b[0;32m----> 6\u001b[0;31m                         .format(message, ret))\n\u001b[0m\u001b[1;32m      7\u001b[0m     \u001b[0;31m# else:\u001b[0m\u001b[0;34m\u001b[0m\u001b[0;34m\u001b[0m\u001b[0;34m\u001b[0m\u001b[0m\n\u001b[1;32m      8\u001b[0m     \u001b[0;31m#     print(\"{} success\".format(message))\u001b[0m\u001b[0;34m\u001b[0m\u001b[0;34m\u001b[0m\u001b[0;34m\u001b[0m\u001b[0m\n",
      "\u001b[0;31mException\u001b[0m: acl.rt.memcpy failed ret=200001"
     ]
    }
   ],
   "source": [
    "model_output = sample.forward(img_dict)"
   ]
  },
  {
   "cell_type": "code",
   "execution_count": 41,
   "metadata": {},
   "outputs": [],
   "source": [
    "num_output = acl.mdl.get_dataset_num_buffers(model_output)\n",
    "\n",
    "def get_model_output_by_index(model_output, i):\n",
    "    temp_output_buf = acl.mdl.get_dataset_buffer(model_output, i)\n",
    "\n",
    "    infer_output_ptr = acl.get_data_buffer_addr(temp_output_buf)\n",
    "    infer_output_size = acl.get_data_buffer_size(temp_output_buf)\n",
    "#     print(\"infer_output_size\", infer_output_size)\n",
    "    \n",
    "    output_host, _ = acl.rt.malloc_host(infer_output_size)\n",
    "    acl.rt.memcpy(output_host, infer_output_size, infer_output_ptr,\n",
    "                          infer_output_size, ACL_MEMCPY_DEVICE_TO_HOST)\n",
    "    \n",
    "    result = acl.util.ptr_to_numpy(output_host, (infer_output_size,), NPY_BYTE)\n",
    "    return np.array(struct.unpack(f\"{infer_output_size//4}f\", bytearray(result))).reshape(92, 92, -1)"
   ]
  },
  {
   "cell_type": "code",
   "execution_count": 52,
   "metadata": {
    "scrolled": true
   },
   "outputs": [],
   "source": [
    "peaks = get_model_output_by_index(model_output, 0)\n",
    "heatmat = get_model_output_by_index(model_output, 1)\n",
    "pafmat = get_model_output_by_index(model_output, 2)"
   ]
  },
  {
   "cell_type": "code",
   "execution_count": null,
   "metadata": {},
   "outputs": [],
   "source": []
  }
 ],
 "metadata": {
  "kernelspec": {
   "display_name": "Python 3",
   "language": "python",
   "name": "python3"
  },
  "language_info": {
   "codemirror_mode": {
    "name": "ipython",
    "version": 3
   },
   "file_extension": ".py",
   "mimetype": "text/x-python",
   "name": "python",
   "nbconvert_exporter": "python",
   "pygments_lexer": "ipython3",
   "version": "3.6.9"
  }
 },
 "nbformat": 4,
 "nbformat_minor": 4
}
