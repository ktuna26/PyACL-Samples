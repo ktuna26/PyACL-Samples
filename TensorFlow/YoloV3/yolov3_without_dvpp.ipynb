{
 "cells": [
  {
   "cell_type": "code",
   "execution_count": 1,
   "id": "d6652e40-8d42-4579-8db6-f07d17f2ad91",
   "metadata": {},
   "outputs": [],
   "source": [
    "\"\"\"\n",
    "Copyright 2021 Huawei Technologies Co., Ltd\n",
    "\n",
    "CREATED:  2022-10-04 13:12:13\n",
    "MODIFIED: 2022-10-06 10:48:45\n",
    "\"\"\"\n",
    "\n",
    "# -*- coding:utf-8 -*-\n",
    "import acl\n",
    "import cv2\n",
    "from PIL import Image, ImageDraw\n",
    "import sys\n",
    "# define acllite library path\n",
    "sys.path.append('../../Common/acllite')\n",
    "# modules of acllite library\n",
    "from acllite_model import AclLiteModel\n",
    "from acllite_resource import AclLiteResource\n",
    "from src.model import preprocessing, postprocessing"
   ]
  },
  {
   "cell_type": "code",
   "execution_count": 2,
   "id": "542db274-465d-4470-854e-e8e4dccad835",
   "metadata": {},
   "outputs": [],
   "source": [
    "# define device id & model path\n",
    "device_id = 0\n",
    "model_path = \"model/yolov3.om\"\n",
    "\n",
    "# define image & coco_names paths\n",
    "img_path = \"../../Common/data/person.jpg\"\n",
    "coco_names_path = \"../../Common/data/coco.names\""
   ]
  },
  {
   "cell_type": "code",
   "execution_count": 3,
   "id": "d894faac-77d6-4704-8107-757802c0f726",
   "metadata": {},
   "outputs": [
    {
     "ename": "FileNotFoundError",
     "evalue": "[Errno 2] No such file or directory: '../../Commondata/coco.names'",
     "output_type": "error",
     "traceback": [
      "\u001b[0;31m---------------------------------------------------------------------------\u001b[0m",
      "\u001b[0;31mFileNotFoundError\u001b[0m                         Traceback (most recent call last)",
      "Cell \u001b[0;32mIn[3], line 1\u001b[0m\n\u001b[0;32m----> 1\u001b[0m \u001b[38;5;28;01mwith\u001b[39;00m \u001b[38;5;28;43mopen\u001b[39;49m\u001b[43m(\u001b[49m\u001b[43mcoco_names_path\u001b[49m\u001b[43m)\u001b[49m \u001b[38;5;28;01mas\u001b[39;00m fd:\n\u001b[1;32m      2\u001b[0m     coco_labels \u001b[38;5;241m=\u001b[39m fd\u001b[38;5;241m.\u001b[39mreadlines()\n\u001b[1;32m      4\u001b[0m coco_labels \u001b[38;5;241m=\u001b[39m [i[:\u001b[38;5;241m-\u001b[39m\u001b[38;5;241m1\u001b[39m] \u001b[38;5;28;01mfor\u001b[39;00m i \u001b[38;5;129;01min\u001b[39;00m coco_labels][\u001b[38;5;241m1\u001b[39m:]\n",
      "File \u001b[0;32m/usr/local/python3.9.2/lib/python3.9/site-packages/IPython/core/interactiveshell.py:282\u001b[0m, in \u001b[0;36m_modified_open\u001b[0;34m(file, *args, **kwargs)\u001b[0m\n\u001b[1;32m    275\u001b[0m \u001b[38;5;28;01mif\u001b[39;00m file \u001b[38;5;129;01min\u001b[39;00m {\u001b[38;5;241m0\u001b[39m, \u001b[38;5;241m1\u001b[39m, \u001b[38;5;241m2\u001b[39m}:\n\u001b[1;32m    276\u001b[0m     \u001b[38;5;28;01mraise\u001b[39;00m \u001b[38;5;167;01mValueError\u001b[39;00m(\n\u001b[1;32m    277\u001b[0m         \u001b[38;5;124mf\u001b[39m\u001b[38;5;124m\"\u001b[39m\u001b[38;5;124mIPython won\u001b[39m\u001b[38;5;124m'\u001b[39m\u001b[38;5;124mt let you open fd=\u001b[39m\u001b[38;5;132;01m{\u001b[39;00mfile\u001b[38;5;132;01m}\u001b[39;00m\u001b[38;5;124m by default \u001b[39m\u001b[38;5;124m\"\u001b[39m\n\u001b[1;32m    278\u001b[0m         \u001b[38;5;124m\"\u001b[39m\u001b[38;5;124mas it is likely to crash IPython. If you know what you are doing, \u001b[39m\u001b[38;5;124m\"\u001b[39m\n\u001b[1;32m    279\u001b[0m         \u001b[38;5;124m\"\u001b[39m\u001b[38;5;124myou can use builtins\u001b[39m\u001b[38;5;124m'\u001b[39m\u001b[38;5;124m open.\u001b[39m\u001b[38;5;124m\"\u001b[39m\n\u001b[1;32m    280\u001b[0m     )\n\u001b[0;32m--> 282\u001b[0m \u001b[38;5;28;01mreturn\u001b[39;00m \u001b[43mio_open\u001b[49m\u001b[43m(\u001b[49m\u001b[43mfile\u001b[49m\u001b[43m,\u001b[49m\u001b[43m \u001b[49m\u001b[38;5;241;43m*\u001b[39;49m\u001b[43margs\u001b[49m\u001b[43m,\u001b[49m\u001b[43m \u001b[49m\u001b[38;5;241;43m*\u001b[39;49m\u001b[38;5;241;43m*\u001b[39;49m\u001b[43mkwargs\u001b[49m\u001b[43m)\u001b[49m\n",
      "\u001b[0;31mFileNotFoundError\u001b[0m: [Errno 2] No such file or directory: '../../Commondata/coco.names'"
     ]
    }
   ],
   "source": [
    "with open(coco_names_path) as fd:\n",
    "    coco_labels = fd.readlines()\n",
    "\n",
    "coco_labels = [i[:-1] for i in coco_labels][1:]"
   ]
  },
  {
   "cell_type": "code",
   "execution_count": null,
   "id": "289e4bb7-965b-4dd2-b14b-9f72c56e1645",
   "metadata": {},
   "outputs": [],
   "source": [
    "# initialize acllite library\n",
    "acl_resource = AclLiteResource()\n",
    "acl_resource.init()\n",
    "\n",
    "# load *.om model\n",
    "model = AclLiteModel(model_path, device_id)"
   ]
  },
  {
   "cell_type": "code",
   "execution_count": null,
   "id": "a2b13b05-fbcb-4118-b3ed-2399d8c9bbbe",
   "metadata": {},
   "outputs": [],
   "source": [
    "# read image\n",
    "img_org_bgr = cv2.imread(img_path)"
   ]
  },
  {
   "cell_type": "code",
   "execution_count": null,
   "id": "edf0d3c1-41ac-4c4a-82fa-b406abf9310f",
   "metadata": {},
   "outputs": [],
   "source": [
    "# 1) pre-processing stage\n",
    "data = preprocessing(img_org_bgr,model._model_desc)"
   ]
  },
  {
   "cell_type": "code",
   "execution_count": null,
   "id": "d12e4592-cac3-4b23-b11c-be1cea07ac68",
   "metadata": {},
   "outputs": [],
   "source": [
    "%timeit -n 10 -r 3\n",
    "# 2) model execution(forward) stage\n",
    "result_list = model.execute([data,]) "
   ]
  },
  {
   "cell_type": "code",
   "execution_count": null,
   "id": "ec0b2fec-0677-49fa-826b-3afa1612b88b",
   "metadata": {},
   "outputs": [],
   "source": [
    "# 3) post-processing the raw predictions\n",
    "bboxes = postprocessing(model, result_list, img_org_bgr, 0.3, 0.45)"
   ]
  },
  {
   "cell_type": "code",
   "execution_count": null,
   "id": "b919b784-c59b-43fb-a0c3-a260f40b2aef",
   "metadata": {},
   "outputs": [],
   "source": [
    "img_out = Image.open(img_path)\n",
    "img1 = ImageDraw.Draw(img_out)\n",
    "for bbox in bboxes:\n",
    "    img1.rectangle(list(bbox[:4]), outline =\"red\", width=2)\n",
    "    print(bbox[:4], bbox[4], int(bbox[5]), coco_labels[int(bbox[5])])"
   ]
  },
  {
   "cell_type": "code",
   "execution_count": null,
   "id": "f1519b5a-c8c8-4b35-baee-cb841c1b2076",
   "metadata": {},
   "outputs": [],
   "source": [
    "img_out"
   ]
  },
  {
   "cell_type": "code",
   "execution_count": null,
   "id": "fe64ef9a-cfa5-4244-8118-58bbfcfc33f0",
   "metadata": {},
   "outputs": [],
   "source": []
  }
 ],
 "metadata": {
  "kernelspec": {
   "display_name": "Python 3 (ipykernel)",
   "language": "python",
   "name": "python3"
  },
  "language_info": {
   "codemirror_mode": {
    "name": "ipython",
    "version": 3
   },
   "file_extension": ".py",
   "mimetype": "text/x-python",
   "name": "python",
   "nbconvert_exporter": "python",
   "pygments_lexer": "ipython3",
   "version": "3.9.2"
  }
 },
 "nbformat": 4,
 "nbformat_minor": 5
}
