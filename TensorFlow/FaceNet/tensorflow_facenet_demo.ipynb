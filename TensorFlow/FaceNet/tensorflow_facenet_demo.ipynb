{
 "cells": [
  {
   "cell_type": "code",
   "execution_count": 1,
   "id": "7dc5cf49-24b3-4ceb-9ab0-823904f9a493",
   "metadata": {},
   "outputs": [],
   "source": [
    "\"\"\"\n",
    "Copyright 2021 Huawei Technologies Co., Ltd\n",
    "\n",
    "CREATED:  2022-10-04 13:12:13\n",
    "MODIFIED: 2022-12-26 10:48:45\n",
    "\"\"\"\n",
    "\n",
    "# -*- coding:utf-8 -*-\n",
    "import sys\n",
    "sys.path.append('../../Common/acllite')\n",
    "from acllite_model import AclLiteModel\n",
    "from acllite_resource import AclLiteResource\n",
    "from src.model import preprocess, get_sizes, resize_image\n",
    "import cv2"
   ]
  },
  {
   "cell_type": "code",
   "execution_count": 2,
   "id": "45204b0c-5ec3-4527-b0a7-5fa83522e5e4",
   "metadata": {},
   "outputs": [],
   "source": [
    "img_path = \"./data/angelina_jolie.jpg\"\n",
    "\n",
    "model_path = \"model/facenet.om\""
   ]
  },
  {
   "cell_type": "code",
   "execution_count": 3,
   "id": "06c1ea3c-aa0c-46df-b22f-be1e76be7afa",
   "metadata": {},
   "outputs": [
    {
     "name": "stdout",
     "output_type": "stream",
     "text": [
      "init resource stage:\n",
      "Init resource success\n",
      "Init model resource start...\n",
      "[AclLiteModel] create model output dataset:\n",
      "malloc output 0, size 8192\n",
      "Create model output dataset success\n",
      "Init model resource success\n"
     ]
    }
   ],
   "source": [
    "acl_resource = AclLiteResource()\n",
    "acl_resource.init()\n",
    "\n",
    "model = AclLiteModel(model_path, 0)"
   ]
  },
  {
   "cell_type": "code",
   "execution_count": 4,
   "id": "5590dc71-ec39-449b-8a01-ddff7c32eb9b",
   "metadata": {},
   "outputs": [
    {
     "name": "stdout",
     "output_type": "stream",
     "text": [
      "model input size 1\n",
      "input  0\n",
      "model input dims ({'name': 'input', 'dimCount': 4, 'dims': [4, 160, 160, 3]}, 0)\n",
      "model input datatype 4\n",
      "==================================================\n",
      "model output size 1\n",
      "output  0\n",
      "model output dims ({'name': 'embeddings:0', 'dimCount': 2, 'dims': [4, 512]}, 0)\n",
      "model output datatype 0\n",
      "==================================================\n",
      "[Model] class Model init resource stage success\n"
     ]
    }
   ],
   "source": [
    "get_sizes(model._model_desc)"
   ]
  },
  {
   "cell_type": "code",
   "execution_count": 5,
   "id": "71a8071d-495a-4a27-90c6-7b92dd82017d",
   "metadata": {},
   "outputs": [],
   "source": [
    "img_org_bgr = cv2.imread(img_path)\n",
    "\n",
    "data = preprocess(img_org_bgr)\n",
    "\n",
    "%timeit -n 10 -r 3\n",
    "\n",
    "result_list = model.execute([data,]) "
   ]
  },
  {
   "cell_type": "code",
   "execution_count": 6,
   "id": "05ef435c-bd86-4342-a881-89cb5aa9fc4e",
   "metadata": {},
   "outputs": [
    {
     "name": "stdout",
     "output_type": "stream",
     "text": [
      "[[ 0.0247345  -0.00868225 -0.02677917 ... -0.00292969 -0.05108643\n",
      "   0.00833893]\n",
      " [ 0.03964233 -0.0168457  -0.02331543 ... -0.00147057 -0.040802\n",
      "  -0.00827789]\n",
      " [ 0.02484131 -0.0146637  -0.0335083  ...  0.016922   -0.03265381\n",
      "  -0.01317596]\n",
      " [ 0.01687622 -0.00971222 -0.05493164 ...  0.02877808 -0.01280975\n",
      "  -0.02963257]]\n"
     ]
    }
   ],
   "source": [
    "print(result_list[0])"
   ]
  }
 ],
 "metadata": {
  "kernelspec": {
   "display_name": "Python 3 (ipykernel)",
   "language": "python",
   "name": "python3"
  },
  "language_info": {
   "codemirror_mode": {
    "name": "ipython",
    "version": 3
   },
   "file_extension": ".py",
   "mimetype": "text/x-python",
   "name": "python",
   "nbconvert_exporter": "python",
   "pygments_lexer": "ipython3",
   "version": "3.8.11"
  }
 },
 "nbformat": 4,
 "nbformat_minor": 5
}
