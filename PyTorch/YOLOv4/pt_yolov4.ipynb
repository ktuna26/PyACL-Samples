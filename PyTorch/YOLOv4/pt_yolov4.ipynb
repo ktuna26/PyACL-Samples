{
 "cells": [
  {
   "cell_type": "code",
   "execution_count": null,
   "metadata": {},
   "outputs": [],
   "source": [
    "\"\"\"\n",
    "Copyright 2022 Huawei Technologies Co., Ltd\n",
    "\n",
    "CREATED:  2022-10-04 13:12:13\n",
    "MODIFIED: 2022-12-20 06:48:45\n",
    "\"\"\"\n",
    "\n",
    "# -*- coding:utf-8 -*-\n",
    "import cv2, sys\n",
    "import numpy as np\n",
    "import random as rnd\n",
    "#\n",
    "from PIL import Image\n",
    "from src.model import preprocessing, postprocessing\n",
    "from src.postprocessing import detect, array2detections, nms\n",
    "# define acllite library path\n",
    "sys.path.append('../../Common/acllite')\n",
    "# modules of acllite library\n",
    "from acllite_model import AclLiteModel\n",
    "from acllite_resource import AclLiteResource"
   ]
  },
  {
   "cell_type": "code",
   "execution_count": 1,
   "metadata": {},
   "outputs": [],
   "source": [
    "%load_ext autoreload\n",
    "%autoreload 2"
   ]
  },
  {
   "cell_type": "code",
   "execution_count": null,
   "metadata": {},
   "outputs": [],
   "source": [
    "# define device id & model path\n",
    "device_id = 0\n",
    "model_path = \"model/yolov4.om\"\n",
    "\n",
    "# define image & coco_names paths\n",
    "img_path = \"data/person.jpg\"\n",
    "coco_names_path = \"data/coco.names\""
   ]
  },
  {
   "cell_type": "code",
   "execution_count": null,
   "metadata": {},
   "outputs": [],
   "source": [
    "# initialize acllite library\n",
    "acl_resource = AclLiteResource()\n",
    "acl_resource.init()\n",
    "print('[Device] NPU Device id:',acl_resource.device_id)\n",
    "# load *.om model\n",
    "model = AclLiteModel(model_path)"
   ]
  },
  {
   "cell_type": "code",
   "execution_count": null,
   "metadata": {},
   "outputs": [],
   "source": [
    "# read image\n",
    "img_org_bgr = cv2.imread(img_path)"
   ]
  },
  {
   "cell_type": "code",
   "execution_count": null,
   "metadata": {},
   "outputs": [],
   "source": [
    "data, model_input_height, model_input_width = preprocessing(img_org_bgr,model._model_desc)"
   ]
  },
  {
   "attachments": {},
   "cell_type": "markdown",
   "metadata": {},
   "source": [
    "%timeit -n 10 -r 3\n",
    "result_list = model.execute([data,])"
   ]
  },
  {
   "cell_type": "code",
   "execution_count": null,
   "metadata": {},
   "outputs": [],
   "source": [
    "# 3) post-processing the raw predictions\n",
    "bboxes = postprocessing(result_list,img_org_bgr,coco_names_path,model._model_desc)"
   ]
  },
  {
   "cell_type": "code",
   "execution_count": null,
   "metadata": {},
   "outputs": [],
   "source": [
    "# draw bounding boxes\n",
    "img1 = ImageDraw.Draw(img)\n",
    "\n",
    "for bbox in bboxes:\n",
    "    color =\"#FF\"+''.join([rnd.choice('0123456789ABCDEF') for j in range(4)])\n",
    "    img1.rectangle(list(bbox[:4]), outline =color, width=3)\n",
    "    print(bbox[:4], bbox[4], bbox[5], coco_labels[int(bbox[5])])\n",
    "for bbox in bboxes:\n",
    "    img1.rectangle((bbox[0],bbox[1],bbox[0]+45,bbox[1]+15),outline = (255,255,255),width=10)\n",
    "    img1.text((bbox[0]+5, bbox[1]),coco_labels[int(bbox[5])],(0,0,0),thickness=10)"
   ]
  },
  {
   "cell_type": "code",
   "execution_count": null,
   "metadata": {},
   "outputs": [],
   "source": [
    "img"
   ]
  }
 ],
 "metadata": {
  "kernelspec": {
   "display_name": "Python 3",
   "language": "python",
   "name": "python3"
  },
  "language_info": {
   "codemirror_mode": {
    "name": "ipython",
    "version": 3
   },
   "file_extension": ".py",
   "mimetype": "text/x-python",
   "name": "python",
   "nbconvert_exporter": "python",
   "pygments_lexer": "ipython3",
   "version": "3.8.11"
  },
  "vscode": {
   "interpreter": {
    "hash": "dc352aabec68d45f650f125dd5aecf9d57eeb57f71b48f2b850dd3d969660d23"
   }
  }
 },
 "nbformat": 4,
 "nbformat_minor": 4
}
