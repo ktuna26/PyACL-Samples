{
 "cells": [
  {
   "cell_type": "code",
   "execution_count": 1,
   "id": "997bee99-98c1-4da0-a849-88c0a02d8846",
   "metadata": {},
   "outputs": [],
   "source": [
    "import cv2 as cv\n",
    "import os\n",
    "import sys\n",
    "from model import preprocess\n",
    "from model import postprocess\n",
    "#path = os.path.dirname(os.path.abspath(__file__))\n",
    "from PIL import Image\n",
    "\n",
    "\n",
    "sys.path.append('../acllite')\n",
    "\n",
    "from acllite_model import AclLiteModel\n",
    "from acllite_resource import AclLiteResource\n",
    "from constants import IMG_EXT\n"
   ]
  },
  {
   "cell_type": "code",
   "execution_count": 2,
   "id": "9c5e5976-a5f5-4ab4-96f3-6e22f169249a",
   "metadata": {},
   "outputs": [],
   "source": [
    "INPUT_DIR = './data/'\n",
    "OUTPUT_DIR = './out/'"
   ]
  },
  {
   "cell_type": "code",
   "execution_count": 3,
   "id": "362db5ac-a0eb-45d8-a3db-f00973ee8c00",
   "metadata": {},
   "outputs": [],
   "source": [
    "device_id = 5\n",
    "model_path = './model/deeplabv3plus513.om'"
   ]
  },
  {
   "cell_type": "code",
   "execution_count": 4,
   "id": "60e86725-1565-42ca-82ac-748d2b87ba2b",
   "metadata": {},
   "outputs": [
    {
     "name": "stdout",
     "output_type": "stream",
     "text": [
      "init resource stage:\n",
      "Init resource success\n",
      "[Device] NPU Device id: 5\n",
      "Init model resource start...\n",
      "[AclLiteModel] create model output dataset:\n",
      "malloc output 0, size 11053098\n",
      "Create model output dataset success\n",
      "Init model resource success\n"
     ]
    }
   ],
   "source": [
    "acl_resource = AclLiteResource(device_id)\n",
    "acl_resource.init()\n",
    "print('[Device] NPU Device id:',acl_resource.device_id)\n",
    "model = AclLiteModel(model_path)"
   ]
  },
  {
   "cell_type": "code",
   "execution_count": 5,
   "id": "2889aa0f-1ecc-4b10-b47b-8a94d77fb1f3",
   "metadata": {},
   "outputs": [
    {
     "name": "stdout",
     "output_type": "stream",
     "text": [
      "['./data/test.jpg']\n"
     ]
    }
   ],
   "source": [
    "images_list = [os.path.join(INPUT_DIR, img)\n",
    "                   for img in os.listdir(INPUT_DIR)\n",
    "                   if os.path.splitext(img)[1] in IMG_EXT]\n",
    "print(images_list)"
   ]
  },
  {
   "cell_type": "code",
   "execution_count": 6,
   "id": "058f4617-bfd6-455f-8b2b-5bc1f77a6f10",
   "metadata": {},
   "outputs": [
    {
     "name": "stdout",
     "output_type": "stream",
     "text": [
      "model input size 1\n",
      "input  0\n",
      "model input dims ({'name': 'actual_input_1', 'dimCount': 4, 'dims': [1, 3, 513, 513]}, 0)\n",
      "model input datatype 0\n",
      "==================================================\n",
      "model output size 1\n",
      "output  0\n",
      "model output dims ({'name': 'PartitionedCall_Resize_429_ResizeBilinearV2_28:0:output1', 'dimCount': 4, 'dims': [1, 21, 513, 513]}, 0)\n",
      "model output datatype 1\n",
      "==================================================\n",
      "[Model] class Model init resource stage success\n",
      "in preprocess, use time:0.24235963821411133\n"
     ]
    }
   ],
   "source": [
    "input_data = preprocess(images_list[0],model._model_desc)"
   ]
  },
  {
   "cell_type": "code",
   "execution_count": 7,
   "id": "a6ef8fd1-bccf-456f-8fad-d6a1af2f107b",
   "metadata": {},
   "outputs": [],
   "source": [
    "result_list = model.execute([input_data,])"
   ]
  },
  {
   "cell_type": "code",
   "execution_count": 8,
   "id": "c2582abf-491d-4357-9151-ebdcc147b76c",
   "metadata": {},
   "outputs": [
    {
     "name": "stdout",
     "output_type": "stream",
     "text": [
      "./mask/pic7.jpg dilate_mask_pic\n",
      "./mask/pic15.jpg dilate_mask_pic\n",
      "Image saved out path.\n",
      "in postprocess, use time:2.1872141361236572\n"
     ]
    }
   ],
   "source": [
    "fig = postprocess(result_list, images_list[0], OUTPUT_DIR)"
   ]
  },
  {
   "cell_type": "code",
   "execution_count": 9,
   "id": "dc1b5757-9396-49b4-a750-ab6b30a9b39d",
   "metadata": {},
   "outputs": [
    {
     "name": "stdout",
     "output_type": "stream",
     "text": [
      "['./out/test.jpg']\n"
     ]
    }
   ],
   "source": [
    "images_list = [os.path.join(OUTPUT_DIR, img)\n",
    "                   for img in os.listdir(OUTPUT_DIR)\n",
    "                   if os.path.splitext(img)[1] in IMG_EXT]\n",
    "print(images_list)\n",
    "output_img = cv.imread(images_list[0])\n",
    "res_img = cv.cvtColor(output_img, cv.COLOR_BGR2RGB)\n",
    "res_img_plw = Image.fromarray(res_img)\n",
    "\n"
   ]
  },
  {
   "cell_type": "code",
   "execution_count": null,
   "id": "0b9a4995-1c74-42bc-8f5e-adc27ef6d781",
   "metadata": {},
   "outputs": [],
   "source": [
    "res_img_plw"
   ]
  },
  {
   "cell_type": "code",
   "execution_count": null,
   "id": "5aa28539-c5b9-4c75-b4a3-519bd67dc589",
   "metadata": {},
   "outputs": [],
   "source": []
  }
 ],
 "metadata": {
  "kernelspec": {
   "display_name": "Python 3 (ipykernel)",
   "language": "python",
   "name": "python3"
  },
  "language_info": {
   "codemirror_mode": {
    "name": "ipython",
    "version": 3
   },
   "file_extension": ".py",
   "mimetype": "text/x-python",
   "name": "python",
   "nbconvert_exporter": "python",
   "pygments_lexer": "ipython3",
   "version": "3.7.5"
  }
 },
 "nbformat": 4,
 "nbformat_minor": 5
}
