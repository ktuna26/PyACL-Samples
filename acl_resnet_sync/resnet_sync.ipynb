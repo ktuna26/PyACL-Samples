{
 "cells": [
  {
   "cell_type": "code",
   "execution_count": 2,
   "metadata": {},
   "outputs": [],
   "source": [
    "import argparse\n",
    "import numpy as np\n",
    "import struct\n",
    "import acl\n",
    "import os\n",
    "from PIL import Image\n",
    "from constant import ACL_MEM_MALLOC_HUGE_FIRST, \\\n",
    "    ACL_MEMCPY_HOST_TO_DEVICE, ACL_MEMCPY_DEVICE_TO_HOST, \\\n",
    "    ACL_ERROR_NONE, IMG_EXT, ACL_MEMCPY_DEVICE_TO_DEVICE, ACL_MEM_MALLOC_NORMAL_ONLY\n",
    "\n",
    "buffer_method = {\n",
    "    \"in\": acl.mdl.get_input_size_by_index,\n",
    "    \"out\": acl.mdl.get_output_size_by_index\n",
    "    }\n",
    "\n",
    "from acl_net import *\n",
    "import numpy as np"
   ]
  },
  {
   "cell_type": "code",
   "execution_count": 2,
   "metadata": {},
   "outputs": [
    {
     "name": "stdout",
     "output_type": "stream",
     "text": [
      "init resource stage:\n",
      "model_id:1\n",
      "init resource success\n"
     ]
    }
   ],
   "source": [
    "net = Net(0, \"./model/resnet50_aipp.om\")"
   ]
  },
  {
   "cell_type": "code",
   "execution_count": 3,
   "metadata": {},
   "outputs": [],
   "source": [
    "images_path = \"./data\""
   ]
  },
  {
   "cell_type": "code",
   "execution_count": 4,
   "metadata": {},
   "outputs": [],
   "source": [
    "images_list = [os.path.join(images_path, img)\n",
    "                   for img in os.listdir(images_path)\n",
    "                   if os.path.splitext(img)[1] in IMG_EXT]"
   ]
  },
  {
   "cell_type": "code",
   "execution_count": 7,
   "metadata": {},
   "outputs": [
    {
     "data": {
      "text/plain": [
       "6.0"
      ]
     },
     "execution_count": 7,
     "metadata": {},
     "output_type": "execute_result"
    }
   ],
   "source": [
    "301056 / 224 / 224"
   ]
  },
  {
   "cell_type": "code",
   "execution_count": 5,
   "metadata": {},
   "outputs": [
    {
     "data": {
      "text/plain": [
       "(301056,)"
      ]
     },
     "execution_count": 5,
     "metadata": {},
     "output_type": "execute_result"
    }
   ],
   "source": [
    "np.fromfile(\"./data/persian_cat_1024_1536_283.bin\", dtype=np.byte).shape"
   ]
  },
  {
   "cell_type": "code",
   "execution_count": null,
   "metadata": {},
   "outputs": [],
   "source": [
    "for image in images_list:\n",
    "    print(\"images:{}\".format(image))\n",
    "    transfer_pic(image)\n",
    "    img = np.fromfile(image.replace(\".jpg\", \".bin\"), dtype=np.byte)\n",
    "    net.run([img])\n",
    "\n",
    "print(\"*****run finish******\")"
   ]
  },
  {
   "cell_type": "code",
   "execution_count": null,
   "metadata": {},
   "outputs": [],
   "source": []
  }
 ],
 "metadata": {
  "kernelspec": {
   "display_name": "Python 3",
   "language": "python",
   "name": "python3"
  },
  "language_info": {
   "codemirror_mode": {
    "name": "ipython",
    "version": 3
   },
   "file_extension": ".py",
   "mimetype": "text/x-python",
   "name": "python",
   "nbconvert_exporter": "python",
   "pygments_lexer": "ipython3",
   "version": "3.7.6"
  }
 },
 "nbformat": 4,
 "nbformat_minor": 4
}
