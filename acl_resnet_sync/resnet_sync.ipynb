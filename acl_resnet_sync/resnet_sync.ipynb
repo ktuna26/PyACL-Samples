{
 "cells": [
  {
   "cell_type": "code",
   "execution_count": 1,
   "metadata": {},
   "outputs": [],
   "source": [
    "import argparse\n",
    "import numpy as np\n",
    "import struct\n",
    "import acl\n",
    "import os\n",
    "from PIL import Image\n",
    "from constant import ACL_MEM_MALLOC_HUGE_FIRST, \\\n",
    "    ACL_MEMCPY_HOST_TO_DEVICE, ACL_MEMCPY_DEVICE_TO_HOST, \\\n",
    "    ACL_ERROR_NONE, IMG_EXT, ACL_MEMCPY_DEVICE_TO_DEVICE, ACL_MEM_MALLOC_NORMAL_ONLY\n",
    "\n",
    "buffer_method = {\n",
    "    \"in\": acl.mdl.get_input_size_by_index,\n",
    "    \"out\": acl.mdl.get_output_size_by_index\n",
    "    }\n",
    "\n",
    "from acl_net import *"
   ]
  },
  {
   "cell_type": "code",
   "execution_count": 2,
   "metadata": {},
   "outputs": [
    {
     "name": "stdout",
     "output_type": "stream",
     "text": [
      "init resource stage:\n",
      "model_id:1\n",
      "init resource success\n"
     ]
    }
   ],
   "source": [
    "net = Net(0, \"./model/resnet50.om\")"
   ]
  },
  {
   "cell_type": "code",
   "execution_count": 3,
   "metadata": {},
   "outputs": [],
   "source": [
    "images_path = \"./data\""
   ]
  },
  {
   "cell_type": "code",
   "execution_count": 4,
   "metadata": {},
   "outputs": [],
   "source": [
    "images_list = [os.path.join(images_path, img)\n",
    "                   for img in os.listdir(images_path)\n",
    "                   if os.path.splitext(img)[1] in IMG_EXT]"
   ]
  },
  {
   "cell_type": "code",
   "execution_count": 5,
   "metadata": {},
   "outputs": [
    {
     "name": "stdout",
     "output_type": "stream",
     "text": [
      "images:./data/dog1_1024_683.jpg\n",
      "data interaction from host to device\n",
      "data interaction from host to device success\n",
      "execute stage:\n",
      "execute stage success\n",
      "data interaction from device to host\n",
      "======== top5 inference results: =============\n",
      "[552]: 0.262207\n",
      "[818]: 0.167969\n",
      "[488]: 0.127686\n",
      "[562]: 0.116333\n",
      "[794]: 0.032562\n",
      "data interaction from device to host success\n",
      "images:./data/dog2_1024_683.jpg\n",
      "data interaction from host to device\n",
      "data interaction from host to device success\n",
      "execute stage:\n",
      "execute stage success\n",
      "data interaction from device to host\n",
      "======== top5 inference results: =============\n",
      "[611]: 0.313477\n",
      "[794]: 0.303711\n",
      "[562]: 0.081116\n",
      "[488]: 0.075623\n",
      "[904]: 0.038025\n",
      "data interaction from device to host success\n",
      "images:./data/wood_rabbit_1024_1061_330.jpg\n",
      "data interaction from host to device\n",
      "data interaction from host to device success\n",
      "execute stage:\n",
      "execute stage success\n",
      "data interaction from device to host\n",
      "======== top5 inference results: =============\n",
      "[488]: 0.693359\n",
      "[562]: 0.138672\n",
      "[695]: 0.078430\n",
      "[489]: 0.035339\n",
      "[696]: 0.016190\n",
      "data interaction from device to host success\n",
      "images:./data/persian_cat_1024_1536_283.jpg\n",
      "data interaction from host to device\n",
      "data interaction from host to device success\n",
      "execute stage:\n",
      "execute stage success\n",
      "data interaction from device to host\n",
      "======== top5 inference results: =============\n",
      "[792]: 0.621582\n",
      "[562]: 0.081604\n",
      "[580]: 0.059204\n",
      "[885]: 0.035339\n",
      "[425]: 0.028397\n",
      "data interaction from device to host success\n",
      "*****run finish******\n"
     ]
    }
   ],
   "source": [
    "for image in images_list:\n",
    "    print(\"images:{}\".format(image))\n",
    "    transfer_pic(image)\n",
    "    img = np.fromfile(image.replace(\".jpg\", \".bin\"), dtype=np.byte)\n",
    "    net.run([img])\n",
    "\n",
    "print(\"*****run finish******\")"
   ]
  },
  {
   "cell_type": "code",
   "execution_count": null,
   "metadata": {},
   "outputs": [],
   "source": []
  }
 ],
 "metadata": {
  "kernelspec": {
   "display_name": "Python 3",
   "language": "python",
   "name": "python3"
  },
  "language_info": {
   "codemirror_mode": {
    "name": "ipython",
    "version": 3
   },
   "file_extension": ".py",
   "mimetype": "text/x-python",
   "name": "python",
   "nbconvert_exporter": "python",
   "pygments_lexer": "ipython3",
   "version": "3.6.9"
  }
 },
 "nbformat": 4,
 "nbformat_minor": 4
}
